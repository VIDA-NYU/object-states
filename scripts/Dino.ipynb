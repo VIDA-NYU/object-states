{
 "cells": [
  {
   "cell_type": "code",
   "execution_count": 1,
   "metadata": {},
   "outputs": [],
   "source": [
    "import os\n",
    "import tqdm\n",
    "import numpy as np\n",
    "from PIL import Image\n",
    "import torch\n",
    "from torch import nn, optim\n",
    "from torch.nn import functional as F\n",
    "from torchvision import datasets\n",
    "from torchvision import transforms\n",
    "import matplotlib.pyplot as plt"
   ]
  },
  {
   "cell_type": "code",
   "execution_count": 2,
   "metadata": {},
   "outputs": [
    {
     "name": "stderr",
     "output_type": "stream",
     "text": [
      "Using cache found in /home/bea/.cache/torch/hub/facebookresearch_dinov2_main\n",
      "/home/bea/.cache/torch/hub/facebookresearch_dinov2_main/dinov2/layers/swiglu_ffn.py:51: UserWarning: xFormers is not available (SwiGLU)\n",
      "  warnings.warn(\"xFormers is not available (SwiGLU)\")\n",
      "/home/bea/.cache/torch/hub/facebookresearch_dinov2_main/dinov2/layers/attention.py:33: UserWarning: xFormers is not available (Attention)\n",
      "  warnings.warn(\"xFormers is not available (Attention)\")\n",
      "/home/bea/.cache/torch/hub/facebookresearch_dinov2_main/dinov2/layers/block.py:40: UserWarning: xFormers is not available (Block)\n",
      "  warnings.warn(\"xFormers is not available (Block)\")\n"
     ]
    }
   ],
   "source": [
    "dinov2 = torch.hub.load('facebookresearch/dinov2', 'dinov2_vits14_reg').eval().cuda()\n",
    "for param in dinov2.parameters():\n",
    "    param.requires_grad = False"
   ]
  },
  {
   "cell_type": "markdown",
   "metadata": {
    "jp-MarkdownHeadingCollapsed": true
   },
   "source": [
    "## Visualize"
   ]
  },
  {
   "cell_type": "code",
   "execution_count": 3,
   "metadata": {},
   "outputs": [],
   "source": [
    "transform = transforms.Compose([           \n",
    "    transforms.Resize(520),\n",
    "    transforms.CenterCrop(518), #should be multiple of model patch_size                 \n",
    "    transforms.ToTensor(),                    \n",
    "    transforms.Normalize(mean=0.5, std=0.2)\n",
    "])\n",
    "patch_size = dinov2.patch_size # patchsize=14\n",
    "patch_h  = 520//patch_size\n",
    "patch_w  = 520//patch_size\n",
    "feat_dim = 384 # vits14"
   ]
  },
  {
   "cell_type": "code",
   "execution_count": 40,
   "metadata": {},
   "outputs": [
    {
     "name": "stderr",
     "output_type": "stream",
     "text": [
      "100%|███████████████████████████████████████████████████████████████████████████████████████████████████████████████████████████████████████████████████████| 13/13 [00:04<00:00,  2.86it/s]\n"
     ]
    },
    {
     "data": {
      "text/plain": [
       "(torch.Size([312, 1369, 384]), (312,))"
      ]
     },
     "execution_count": 40,
     "metadata": {},
     "output_type": "execute_result"
    }
   ],
   "source": [
    "folder_path = \"/datasets/annotation_final_imagenet/static_real/mug/train\"\n",
    "total_features  = []\n",
    "labels = []\n",
    "with torch.no_grad():\n",
    "    for label in tqdm.tqdm(os.listdir(folder_path)):\n",
    "        for img_path in np.random.choice(os.listdir(os.path.join(folder_path, label)), 24):\n",
    "            img_path = os.path.join(folder_path, label, img_path)\n",
    "            img = Image.open(img_path).convert('RGB')\n",
    "            img_t = transform(img).cuda()\n",
    "\n",
    "            features_dict = dinov2.forward_features(img_t.unsqueeze(0))\n",
    "            features = features_dict['x_norm_patchtokens']\n",
    "            total_features.append(features)\n",
    "            labels.append(label)\n",
    "\n",
    "total_features = torch.cat(total_features, dim=0)\n",
    "labels = np.array(labels)\n",
    "total_features.shape, labels.shape"
   ]
  },
  {
   "cell_type": "code",
   "execution_count": 41,
   "metadata": {},
   "outputs": [
    {
     "data": {
      "text/plain": [
       "(array([ 3420., 27718., 51555., 67476., 62886., 62071., 77970., 61106.,\n",
       "        12171.,   755.]),\n",
       " array([0.07729259, 0.15770175, 0.23811091, 0.31852006, 0.39892922,\n",
       "        0.47933838, 0.55974754, 0.64015669, 0.72056585, 0.80097501,\n",
       "        0.88138417]),\n",
       " <BarContainer object of 10 artists>)"
      ]
     },
     "execution_count": 41,
     "metadata": {},
     "output_type": "execute_result"
    },
    {
     "data": {
      "image/png": "[encoded data removed]",
      "text/plain": [
       "<Figure size 640x480 with 3 Axes>"
      ]
     },
     "metadata": {},
     "output_type": "display_data"
    }
   ],
   "source": [
    "from sklearn.decomposition import PCA\n",
    "import matplotlib.pyplot as plt\n",
    "\n",
    "# First PCA to Seperate Background\n",
    "# sklearn expects 2d array for traning\n",
    "total_features = total_features.reshape(-1, feat_dim).cpu()\n",
    "\n",
    "pca = PCA(n_components=3)\n",
    "pca.fit(total_features)\n",
    "pca_features = pca.transform(total_features)\n",
    "pca_features = (pca_features - pca_features[:, 0].min()) / (pca_features[:, 0].max() - pca_features[:, 0].min())\n",
    "pca_features = np.clip(pca_features, 0, 1)\n",
    "\n",
    "# visualize PCA components for finding a proper threshold\n",
    "# 3 histograms for 3 components\n",
    "plt.subplot(2, 2, 1)\n",
    "plt.hist(pca_features[:, 0])\n",
    "plt.subplot(2, 2, 2)\n",
    "plt.hist(pca_features[:, 1])\n",
    "plt.subplot(2, 2, 3)\n",
    "plt.hist(pca_features[:, 2])"
   ]
  },
  {
   "cell_type": "code",
   "execution_count": null,
   "metadata": {},
   "outputs": [],
   "source": [
    "def plot_features(pca_features, fname):\n",
    "    cols = 8\n",
    "    pca_ims = pca_features.reshape(-1, patch_h, patch_w, 3)\n",
    "    idxs = np.argsort(labels)\n",
    "    plt.figure(figsize=(32, 4*len(pca_ims)//cols))\n",
    "    for i in tqdm.tqdm(range(0, len(pca_ims), cols)):\n",
    "        for j in range(cols):\n",
    "            if i+j < len(pca_ims):\n",
    "                plt.subplot(len(pca_ims)//cols+1, cols, i+j+1)\n",
    "                plt.imshow(pca_ims[idxs[i+j]])\n",
    "                plt.title(labels[idxs[i+j]])\n",
    "    plt.tight_layout()\n",
    "    if fname:\n",
    "        os.makedirs(os.path.dirname(fname) or '.', exist_ok=True)\n",
    "        plt.savefig(fname)\n",
    "        plt.close()"
   ]
  },
  {
   "cell_type": "code",
   "execution_count": 43,
   "metadata": {},
   "outputs": [
    {
     "name": "stderr",
     "output_type": "stream",
     "text": [
      "100%|███████████████████████████████████████████████████████████████████████████████████████████████████████████████████████████████████████████████████████| 39/39 [00:03<00:00, 12.17it/s]\n"
     ]
    }
   ],
   "source": [
    "plot_features(pca_features, 'plots/pca.jpg')"
   ]
  },
  {
   "cell_type": "code",
   "execution_count": null,
   "metadata": {},
   "outputs": [],
   "source": [
    "def project_fg(zt, z, thresh, inverse=False):\n",
    "    # segment/seperate the backgound and foreground using the first component\n",
    "    bg = zt[:, 0] < 0.35 # from first histogram\n",
    "    if inverse:\n",
    "        bg = ~bg\n",
    "    fg = ~bg\n",
    "    \n",
    "    # 2nd PCA for only foreground patches\n",
    "    pca.fit(total_features[fg]) \n",
    "    zt2 = pca.transform(z[fg])\n",
    "    zt2 = (zt2 - zt2[:, 0].min()) / (zt2[:, 0].max() - zt2[:, 0].min())\n",
    "    zt2 = np.clip(zt2, 0, 1)\n",
    "    \n",
    "    rgb = zt.copy()\n",
    "    rgb[bg] = 0\n",
    "    rgb[fg] = zt2\n",
    "    return rgb"
   ]
  },
  {
   "cell_type": "code",
   "execution_count": null,
   "metadata": {},
   "outputs": [],
   "source": [
    "# # segment/seperate the backgound and foreground using the first component\n",
    "# pca_features_bg = pca_features[:, 0] < 0.35 # from first histogram\n",
    "# pca_features_fg = ~pca_features_bg\n",
    "\n",
    "# # 2nd PCA for only foreground patches\n",
    "# pca.fit(total_features[pca_features_fg]) \n",
    "# pca_features2 = pca.transform(total_features[pca_features_fg])\n",
    "# pca_features2 = (pca_features2 - pca_features2[:, 0].min()) / (pca_features2[:, 0].max() - pca_features2[:, 0].min())\n",
    "# pca_features2 = np.clip(pca_features2, 0, 1)\n",
    "\n",
    "# pca_features_rgb = pca_features.copy()\n",
    "# # for black background\n",
    "# pca_features_rgb[pca_features_bg] = 0\n",
    "# # new scaled foreground features\n",
    "# pca_features_rgb[pca_features_fg] = pca_features2\n",
    "\n",
    "pca_features_rgb = project_fg(pca_features, total_features, 0.35)\n",
    "plot_features(pca_features_rgb, 'plots/pca2.jpg')"
   ]
  },
  {
   "cell_type": "markdown",
   "metadata": {},
   "source": [
    "## Train"
   ]
  },
  {
   "cell_type": "code",
   "execution_count": 42,
   "metadata": {},
   "outputs": [
    {
     "data": {
      "text/plain": [
       "tensor([0.0300, 0.0261, 0.0939, 0.0482])"
      ]
     },
     "execution_count": 42,
     "metadata": {},
     "output_type": "execute_result"
    }
   ],
   "source": [
    "from torch.utils.data import DataLoader, WeightedRandomSampler\n",
    "\n",
    "device = torch.device(\"cuda:0\" if torch.cuda.is_available() else \"cpu\")\n",
    "# Data augmentation and normalization for training\n",
    "# Just normalization for validation\n",
    "data_transforms = {\n",
    "    'train': transforms.Compose([\n",
    "        transforms.RandomResizedCrop(224),  # Resize and crop\n",
    "        transforms.RandomHorizontalFlip(),  # Randomly flip horizontally\n",
    "        transforms.RandomRotation(10),      # Random rotation\n",
    "        transforms.ColorJitter(brightness=0.2, contrast=0.2, saturation=0.2, hue=0.1),  # Color jitter\n",
    "        transforms.ToTensor(),\n",
    "        transforms.Normalize([0.485, 0.456, 0.406], [0.229, 0.224, 0.225])\n",
    "    ]),\n",
    "    'val': transforms.Compose([\n",
    "        transforms.Resize(256),\n",
    "        transforms.CenterCrop(224),\n",
    "        transforms.ToTensor(),\n",
    "        transforms.Normalize([0.485, 0.456, 0.406], [0.229, 0.224, 0.225])\n",
    "    ]),\n",
    "}\n",
    "\n",
    "data_dir = '/datasets/annotation_final_imagenet/static_real/mug'\n",
    "image_datasets = {\n",
    "    x: datasets.ImageFolder(os.path.join(data_dir, x), data_transforms[x])\n",
    "    for x in ['train', 'val']}\n",
    "\n",
    "# Calculate class weights to balance the dataset\n",
    "class_counts = [image_datasets['train'].targets.count(class_id) for class_id in range(len(image_datasets['train'].classes))]\n",
    "class_weights = 100.0 / (torch.tensor(class_counts, dtype=torch.float))\n",
    "class_weights"
   ]
  },
  {
   "cell_type": "code",
   "execution_count": 43,
   "metadata": {},
   "outputs": [
    {
     "data": {
      "text/plain": [
       "tensor(0.1982)"
      ]
     },
     "execution_count": 43,
     "metadata": {},
     "output_type": "execute_result"
    }
   ],
   "source": [
    "class_weights.sum()"
   ]
  },
  {
   "cell_type": "code",
   "execution_count": 44,
   "metadata": {},
   "outputs": [
    {
     "data": {
      "text/plain": [
       "['mug__empty', 'mug__tea-bag', 'mug__tea-bag+water[full]', 'mug__water[full]']"
      ]
     },
     "execution_count": 44,
     "metadata": {},
     "output_type": "execute_result"
    }
   ],
   "source": [
    "y_true = np.array([y for x,y in image_datasets['train'].samples])\n",
    "dataloaders = {\n",
    "    'train': torch.utils.data.DataLoader(\n",
    "        image_datasets['train'], \n",
    "        sampler=WeightedRandomSampler(\n",
    "            np.array(class_weights)[y_true], \n",
    "            len(image_datasets['train']), \n",
    "            replacement=True),\n",
    "        # shuffle=True,\n",
    "        batch_size=16,\n",
    "        num_workers=4),\n",
    "    'val': torch.utils.data.DataLoader(\n",
    "        image_datasets['val'],\n",
    "        batch_size=16,\n",
    "        num_workers=4)\n",
    "}\n",
    "dataset_sizes = {x: len(image_datasets[x]) for x in ['train', 'val']}\n",
    "class_names = image_datasets['train'].classes\n",
    "class_names"
   ]
  },
  {
   "cell_type": "code",
   "execution_count": 45,
   "metadata": {},
   "outputs": [],
   "source": [
    "# next(iter(WeightedRandomSampler(\n",
    "#             np.array(class_weights)[y_true], \n",
    "#             len(image_datasets['train']), \n",
    "#             replacement=True)))"
   ]
  },
  {
   "cell_type": "code",
   "execution_count": 46,
   "metadata": {},
   "outputs": [],
   "source": [
    "# uniq=set()\n",
    "# for i, (d, yy) in enumerate(dataloaders['train']):\n",
    "#     for yy in yy.tolist():\n",
    "#         uniq.add(yy)\n",
    "#         if len(uniq)>1: \n",
    "#             print(i, yy)\n",
    "#             break"
   ]
  },
  {
   "cell_type": "code",
   "execution_count": 47,
   "metadata": {},
   "outputs": [],
   "source": [
    "# uniq"
   ]
  },
  {
   "cell_type": "code",
   "execution_count": 48,
   "metadata": {},
   "outputs": [],
   "source": [
    "class LinearDinoClassifier(nn.Module):\n",
    "    def __init__(self, dinov2):\n",
    "        super().__init__()\n",
    "        self.transformer = dinov2\n",
    "        self.classifier = nn.Sequential(\n",
    "            nn.Linear(384, 256),\n",
    "            nn.ReLU(),\n",
    "            nn.Linear(256, len(class_names))\n",
    "        )\n",
    "    \n",
    "    def forward(self, x):\n",
    "        x = self.transformer(x)\n",
    "        x = self.transformer.norm(x)\n",
    "        x = self.classifier(x)\n",
    "        x = F.softmax(x, dim=-1)\n",
    "        return x\n",
    "\n",
    "# Create a new classification head using self-attention\n",
    "class DinoClassifier(nn.Module):\n",
    "    def __init__(self, model, in_features=feat_dim, num_attention_heads=4, hidden_dim=512):\n",
    "        super().__init__()\n",
    "        self.model = model\n",
    "        self.attention = nn.MultiheadAttention(embed_dim=in_features, num_heads=num_attention_heads)\n",
    "        self.classifier = nn.Sequential(\n",
    "            nn.Linear(in_features, hidden_dim),\n",
    "            nn.ReLU(),\n",
    "            nn.Linear(hidden_dim, len(class_names)),\n",
    "            nn.Softmax(dim=-1),\n",
    "        )\n",
    "\n",
    "    def forward(self, x):\n",
    "        # Apply self-attention\n",
    "        x = self.model.forward_features(x)['x_norm_patchtokens']\n",
    "        x, _ = self.attention(x, x, x)\n",
    "        x = x.mean(dim=1)\n",
    "        x = self.classifier(x)\n",
    "        return x"
   ]
  },
  {
   "cell_type": "code",
   "execution_count": 49,
   "metadata": {},
   "outputs": [],
   "source": [
    "model = DinoClassifier(dinov2).cuda()\n",
    "criterion = nn.CrossEntropyLoss()\n",
    "# optimizer = optim.SGD(model.parameters(), lr=0.0001, momentum=0.9)\n",
    "optimizer = optim.Adam(model.parameters(), lr=0.0001)"
   ]
  },
  {
   "cell_type": "code",
   "execution_count": 50,
   "metadata": {},
   "outputs": [],
   "source": [
    "def eval_plots(X, y, train_dataset, val_dataset):\n",
    "    classes=np.array(train_dataset.classes)\n",
    "    val_classes=np.array(val_dataset.classes)\n",
    "    emission_plot('plots', X, val_classes[y], classes)\n",
    "    cm_plot('plots', val_classes[y], classes[np.argmax(X, axis=1)], classes)\n",
    "\n",
    "def emission_plot(plot_dir, X, y, classes, prefix='', show_ypred=False):\n",
    "    import matplotlib.pyplot as plt\n",
    "    plt.figure(figsize=(20, 16))\n",
    "    plt.imshow(X.T, cmap='cubehelix', aspect='auto')\n",
    "    cs = {c: i for i, c in enumerate(classes)}\n",
    "    classes = list(classes)\n",
    "    for c in set(y) - set(cs):\n",
    "        cs[c] = len(cs)\n",
    "        classes.append(c)\n",
    "    plt.plot(np.array([cs[yi] for yi in y]), c='r')\n",
    "    if show_ypred:\n",
    "        plt.scatter(np.arange(len(X)), np.argmax(X, axis=1), c='white', s=5, alpha=0.2)\n",
    "    ic = range(len(classes))\n",
    "    plt.yticks(ic, [classes[i] for i in ic])\n",
    "    plt.colorbar()\n",
    "    plt.savefig(f'{plot_dir}/{prefix}emissions.png')\n",
    "    plt.close()\n",
    "\n",
    "\n",
    "def cm_plot(plot_dir, y_test, y_pred, classes, prefix=''):\n",
    "    import seaborn as sns\n",
    "    from sklearn.metrics import confusion_matrix\n",
    "    # classes = np.unique(y_test) if classes is None else classes\n",
    "    cm = confusion_matrix(y_test, y_pred, labels=classes, normalize='true')*100\n",
    "    # Plot and save the confusion matrix\n",
    "    plt.figure(figsize=(20, 16))\n",
    "    sns.heatmap(cm, annot=True, fmt='.0f', cmap='magma', cbar=False, square=True,\n",
    "                xticklabels=classes, yticklabels=classes)\n",
    "    plt.xlabel('Predicted')\n",
    "    plt.ylabel('Actual')\n",
    "    plt.title(f'Confusion Matrix')\n",
    "    plt.savefig(f'{plot_dir}/{prefix}confusion_matrix.png')\n",
    "    plt.close()"
   ]
  },
  {
   "cell_type": "code",
   "execution_count": 51,
   "metadata": {},
   "outputs": [],
   "source": [
    "from collections import Counter"
   ]
  },
  {
   "cell_type": "code",
   "execution_count": 52,
   "metadata": {},
   "outputs": [
    {
     "name": "stdout",
     "output_type": "stream",
     "text": [
      "[1,   201] loss: 4.805\n",
      "Accuracy of the network on the 33 batches: 19%\n",
      "Counter({2: 828, 0: 808, 3: 791, 1: 789})\n",
      "[1,   401] loss: 3.948\n",
      "Accuracy of the network on the 33 batches: 19%\n",
      "Counter({2: 1624, 1: 1621, 3: 1602, 0: 1569})\n",
      "[1,   601] loss: 3.852\n",
      "Accuracy of the network on the 33 batches: 19%\n",
      "Counter({2: 2418, 3: 2417, 1: 2404, 0: 2377})\n",
      "[2,   201] loss: 3.736\n",
      "Accuracy of the network on the 33 batches: 19%\n",
      "Counter({2: 824, 1: 813, 0: 798, 3: 781})\n",
      "[2,   401] loss: 3.681\n",
      "Accuracy of the network on the 33 batches: 19%\n",
      "Counter({2: 1651, 3: 1607, 1: 1581, 0: 1577})\n",
      "[2,   601] loss: 3.662\n",
      "Accuracy of the network on the 33 batches: 19%\n",
      "Counter({0: 2421, 2: 2418, 3: 2413, 1: 2364})\n",
      "[3,   201] loss: 3.635\n",
      "Accuracy of the network on the 33 batches: 19%\n",
      "Counter({0: 822, 1: 810, 2: 795, 3: 789})\n",
      "[3,   401] loss: 3.620\n",
      "Accuracy of the network on the 33 batches: 19%\n",
      "Counter({1: 1637, 0: 1613, 2: 1585, 3: 1581})\n",
      "[3,   601] loss: 3.609\n",
      "Accuracy of the network on the 33 batches: 19%\n",
      "Counter({2: 2461, 1: 2414, 3: 2376, 0: 2365})\n",
      "[4,   201] loss: 3.637\n",
      "Accuracy of the network on the 33 batches: 19%\n",
      "Counter({0: 824, 2: 807, 1: 794, 3: 791})\n",
      "[4,   401] loss: 3.613\n",
      "Accuracy of the network on the 33 batches: 19%\n",
      "Counter({2: 1638, 0: 1614, 3: 1592, 1: 1572})\n",
      "[4,   601] loss: 3.546\n",
      "Accuracy of the network on the 33 batches: 20%\n",
      "Counter({2: 2486, 0: 2396, 1: 2377, 3: 2357})\n",
      "[5,   201] loss: 3.574\n",
      "Accuracy of the network on the 33 batches: 19%\n",
      "Counter({2: 841, 0: 813, 3: 783, 1: 779})\n",
      "[5,   401] loss: 3.550\n",
      "Accuracy of the network on the 33 batches: 19%\n",
      "Counter({2: 1652, 0: 1608, 3: 1599, 1: 1557})\n",
      "[5,   601] loss: 3.601\n",
      "Accuracy of the network on the 33 batches: 19%\n",
      "Counter({3: 2433, 0: 2415, 1: 2389, 2: 2379})\n",
      "[6,   201] loss: 3.665\n",
      "Accuracy of the network on the 33 batches: 20%\n",
      "Counter({0: 830, 3: 812, 1: 792, 2: 782})\n",
      "[6,   401] loss: 3.579\n",
      "Accuracy of the network on the 33 batches: 19%\n",
      "Counter({0: 1664, 3: 1617, 2: 1603, 1: 1532})\n",
      "[6,   601] loss: 3.537\n",
      "Accuracy of the network on the 33 batches: 28%\n",
      "Counter({0: 2433, 3: 2427, 2: 2411, 1: 2345})\n",
      "[7,   201] loss: 3.558\n",
      "Accuracy of the network on the 33 batches: 19%\n",
      "Counter({2: 830, 1: 817, 3: 793, 0: 776})\n",
      "[7,   401] loss: 3.538\n",
      "Accuracy of the network on the 33 batches: 19%\n",
      "Counter({3: 1640, 1: 1614, 2: 1612, 0: 1550})\n",
      "[7,   601] loss: 3.589\n",
      "Accuracy of the network on the 33 batches: 19%\n",
      "Counter({3: 2454, 0: 2397, 1: 2394, 2: 2371})\n",
      "[8,   201] loss: 3.590\n",
      "Accuracy of the network on the 33 batches: 19%\n",
      "Counter({1: 842, 2: 804, 3: 800, 0: 770})\n",
      "[8,   401] loss: 3.535\n",
      "Accuracy of the network on the 33 batches: 19%\n",
      "Counter({1: 1659, 2: 1613, 3: 1578, 0: 1566})\n",
      "[8,   601] loss: 3.549\n",
      "Accuracy of the network on the 33 batches: 19%\n",
      "Counter({1: 2451, 2: 2414, 0: 2379, 3: 2372})\n",
      "[9,   201] loss: 3.583\n",
      "Accuracy of the network on the 33 batches: 29%\n",
      "Counter({2: 833, 3: 828, 0: 809, 1: 746})\n",
      "[9,   401] loss: 3.527\n",
      "Accuracy of the network on the 33 batches: 21%\n",
      "Counter({3: 1637, 0: 1629, 2: 1609, 1: 1541})\n",
      "[9,   601] loss: 3.547\n",
      "Accuracy of the network on the 33 batches: 21%\n",
      "Counter({3: 2462, 0: 2438, 2: 2389, 1: 2327})\n",
      "[10,   201] loss: 3.513\n",
      "Accuracy of the network on the 33 batches: 20%\n",
      "Counter({0: 818, 3: 817, 2: 791, 1: 790})\n",
      "[10,   401] loss: 3.536\n",
      "Accuracy of the network on the 33 batches: 19%\n",
      "Counter({0: 1642, 3: 1608, 1: 1587, 2: 1579})\n",
      "[10,   601] loss: 3.510\n",
      "Accuracy of the network on the 33 batches: 19%\n",
      "Counter({0: 2438, 2: 2400, 1: 2398, 3: 2380})\n",
      "[11,   201] loss: 3.554\n",
      "Accuracy of the network on the 33 batches: 20%\n",
      "Counter({0: 852, 3: 805, 2: 786, 1: 773})\n",
      "[11,   401] loss: 3.515\n",
      "Accuracy of the network on the 33 batches: 19%\n",
      "Counter({0: 1649, 1: 1619, 2: 1574, 3: 1574})\n",
      "[11,   601] loss: 3.511\n",
      "Accuracy of the network on the 33 batches: 19%\n",
      "Counter({0: 2455, 1: 2418, 3: 2388, 2: 2355})\n",
      "[12,   201] loss: 3.547\n",
      "Accuracy of the network on the 33 batches: 19%\n",
      "Counter({3: 847, 2: 813, 0: 781, 1: 775})\n",
      "[12,   401] loss: 3.475\n",
      "Accuracy of the network on the 33 batches: 19%\n",
      "Counter({2: 1664, 3: 1626, 1: 1594, 0: 1532})\n",
      "[12,   601] loss: 3.559\n",
      "Accuracy of the network on the 33 batches: 19%\n",
      "Counter({2: 2477, 3: 2429, 0: 2366, 1: 2344})\n",
      "Accuracy of the network on the 33 batches: 19%\n",
      "Finished Training\n"
     ]
    }
   ],
   "source": [
    "def train_epoch(epoch):\n",
    "    running_loss = 0.0\n",
    "    counter = Counter()\n",
    "    for i, (inputs, labels) in enumerate(dataloaders[\"train\"]):\n",
    "        counter.update(labels.tolist())\n",
    "        # print(inputs.shape)\n",
    "        # print(labels)\n",
    "        optimizer.zero_grad()\n",
    "        outputs = model(inputs.to(device))\n",
    "        loss = criterion(outputs, labels.to(device))\n",
    "        loss.backward()\n",
    "        optimizer.step()\n",
    "\n",
    "        # print statistics\n",
    "        running_loss += loss.item()\n",
    "        if i and not i % 200:\n",
    "            print(f'[{epoch + 1}, {i + 1:5d}] loss: {running_loss / 50:.3f}')\n",
    "            running_loss = 0.0\n",
    "            eval_epoch(model, epoch)\n",
    "            print(counter)\n",
    "\n",
    "def eval_epoch(model, epoch):\n",
    "    correct = 0\n",
    "    total = 0\n",
    "    result_outputs = []\n",
    "    result_targets = []\n",
    "    with torch.no_grad():\n",
    "        for images, labels in dataloaders[\"val\"]:\n",
    "            # calculate outputs by running images through the network\n",
    "            outputs = model(images.to(device))\n",
    "            result_outputs.append(outputs.detach().cpu().numpy())\n",
    "            result_targets.append(labels.detach().cpu().numpy())\n",
    "            # the class with the highest energy is what we choose as prediction\n",
    "            _, predicted = torch.max(outputs.data, 1)\n",
    "            total += labels.size(0)\n",
    "            correct += (predicted.to(\"cpu\") == labels).sum().item()\n",
    "    X = np.concatenate(result_outputs)\n",
    "    y = np.concatenate(result_targets)\n",
    "    classes = dataloaders['train'].dataset.classes\n",
    "    val_classes = dataloaders['val'].dataset.classes\n",
    "    emission_plot('plots', X, np.array(val_classes)[y], classes, f'e{epoch}')\n",
    "\n",
    "    accuracy = correct / total\n",
    "    print(f'Accuracy of the network on the {len(dataloaders[\"val\"])} batches: {accuracy:.0%}')\n",
    "    return accuracy, X, y\n",
    "\n",
    "for epoch in range(12):\n",
    "    train_epoch(epoch)\n",
    "eval_epoch(model, epoch)\n",
    "print('Finished Training')"
   ]
  },
  {
   "cell_type": "code",
   "execution_count": null,
   "metadata": {},
   "outputs": [],
   "source": []
  }
 ],
 "metadata": {
  "kernelspec": {
   "display_name": "Python 3 (ipykernel)",
   "language": "python",
   "name": "python3"
  },
  "language_info": {
   "codemirror_mode": {
    "name": "ipython",
    "version": 3
   },
   "file_extension": ".py",
   "mimetype": "text/x-python",
   "name": "python",
   "nbconvert_exporter": "python",
   "pygments_lexer": "ipython3",
   "version": "3.10.12"
  }
 },
 "nbformat": 4,
 "nbformat_minor": 4
}
