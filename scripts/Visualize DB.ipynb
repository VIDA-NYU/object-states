{
 "cells": [
  {
   "cell_type": "code",
   "execution_count": 1,
   "metadata": {},
   "outputs": [],
   "source": [
    "%load_ext autoreload\n",
    "%autoreload 2"
   ]
  },
  {
   "cell_type": "code",
   "execution_count": 2,
   "metadata": {},
   "outputs": [],
   "source": [
    "import os\n",
    "import tqdm\n",
    "import numpy as np\n",
    "import pandas as pd\n",
    "import lancedb"
   ]
  },
  {
   "cell_type": "code",
   "execution_count": null,
   "metadata": {},
   "outputs": [],
   "source": [
    "db_fnames = [\n",
    "    '/datasets/ptgrecipes_eval/clip_with_bv.lancedb'\n",
    "]\n",
    "state_col = 'super_simple_state'"
   ]
  },
  {
   "cell_type": "code",
   "execution_count": null,
   "metadata": {},
   "outputs": [],
   "source": [
    "import lancedb\n",
    "dfs = []\n",
    "for db_fname in db_fnames:\n",
    "    print(db_fname)\n",
    "    assert os.path.isdir(db_fname)\n",
    "    db = lancedb.connect(db_fname)\n",
    "    for object_name in tqdm.tqdm(db.table_names()):\n",
    "        dfs.append(db.open_table(object_name).to_pandas())\n",
    "df = pd.concat(dfs) if dfs else pd.DataFrame({state_col: []})\n",
    "if state_col:\n",
    "    df['state'] = df[state_col]\n",
    "\n",
    "print(df.shape)\n",
    "df.head()"
   ]
  }
 ],
 "metadata": {
  "kernelspec": {
   "display_name": "ptg",
   "language": "python",
   "name": "python3"
  },
  "language_info": {
   "codemirror_mode": {
    "name": "ipython",
    "version": 3
   },
   "file_extension": ".py",
   "mimetype": "text/x-python",
   "name": "python",
   "nbconvert_exporter": "python",
   "pygments_lexer": "ipython3",
   "version": "3.10.12"
  }
 },
 "nbformat": 4,
 "nbformat_minor": 2
}
